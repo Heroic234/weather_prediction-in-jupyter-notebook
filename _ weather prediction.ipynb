{
 "cells": [
  {
   "cell_type": "markdown",
   "id": "a309fb2b",
   "metadata": {},
   "source": [
    "# Probabilistic weather prediction models \n",
    "(using dummy values)\n"
   ]
  },
  {
   "cell_type": "markdown",
   "id": "889e2392",
   "metadata": {},
   "source": [
    "IMPORTING LIBRARIES"
   ]
  },
  {
   "cell_type": "code",
   "execution_count": 20,
   "id": "22ee604b",
   "metadata": {},
   "outputs": [],
   "source": [
    "import numpy as np\n",
    "from matplotlib import pyplot as plt\n"
   ]
  },
  {
   "cell_type": "markdown",
   "id": "8d8733da",
   "metadata": {},
   "source": [
    "/* intializing probbablity instances of the weather x_today*/"
   ]
  },
  {
   "cell_type": "code",
   "execution_count": 27,
   "id": "70749154",
   "metadata": {},
   "outputs": [],
   "source": [
    "x_today= np.array([[1],[0],[0]])        #this is based on three weather state probabilities: cloudy ,rainy,nice\n",
    "                                        #these probbabilities can only be true for a given weather state in a given day today\n",
    "                                        # As shown in the matrix all weather states have indexes of zero except 'cloudy'"
   ]
  },
  {
   "cell_type": "code",
   "execution_count": 23,
   "id": "05106e50",
   "metadata": {},
   "outputs": [
    {
     "name": "stdout",
     "output_type": "stream",
     "text": [
      "[[0]\n",
      " [0]\n",
      " [1]]\n"
     ]
    }
   ],
   "source": [
    "print(x_today)"
   ]
  },
  {
   "cell_type": "markdown",
   "id": "8b77046d",
   "metadata": {},
   "source": [
    "Intializing propagation state for  the weather"
   ]
  },
  {
   "cell_type": "code",
   "execution_count": 28,
   "id": "1fb73b2d",
   "metadata": {},
   "outputs": [],
   "source": [
    "A = np.array([[0.5,0.5,0.25],[0.25,0,0.25],[0.25,0.5,0.5]])   #Matrix A consists of three rows and three columns which is the transition probability matrix\n",
    "                                                             \n",
    "                                                              #Matrix A propagates the state of the weather for each successive day when multiplied with x_today\n",
    "                                                              "
   ]
  },
  {
   "cell_type": "code",
   "execution_count": 25,
   "id": "48c185c6",
   "metadata": {},
   "outputs": [
    {
     "name": "stdout",
     "output_type": "stream",
     "text": [
      "[[0.5  0.5  0.25]\n",
      " [0.25 0.   0.25]\n",
      " [0.25 0.5  0.5 ]]\n"
     ]
    }
   ],
   "source": [
    "print(A)"
   ]
  },
  {
   "cell_type": "code",
   "execution_count": 29,
   "id": "8d55e50b",
   "metadata": {},
   "outputs": [
    {
     "name": "stdout",
     "output_type": "stream",
     "text": [
      "0\n",
      "[[0.5 ]\n",
      " [0.25]\n",
      " [0.25]]\n",
      "1\n",
      "[[0.4375]\n",
      " [0.1875]\n",
      " [0.375 ]]\n",
      "2\n",
      "[[0.40625 ]\n",
      " [0.203125]\n",
      " [0.390625]]\n",
      "3\n",
      "[[0.40234375]\n",
      " [0.19921875]\n",
      " [0.3984375 ]]\n",
      "4\n",
      "[[0.40039062]\n",
      " [0.20019531]\n",
      " [0.39941406]]\n",
      "5\n",
      "[[0.40014648]\n",
      " [0.19995117]\n",
      " [0.39990234]]\n",
      "6\n",
      "[[0.40002441]\n",
      " [0.20001221]\n",
      " [0.39996338]]\n",
      "7\n",
      "[[0.40000916]\n",
      " [0.19999695]\n",
      " [0.3999939 ]]\n",
      "8\n",
      "[[0.40000153]\n",
      " [0.20000076]\n",
      " [0.39999771]]\n",
      "9\n",
      "[[0.40000057]\n",
      " [0.19999981]\n",
      " [0.39999962]]\n",
      "10\n",
      "[[0.4000001 ]\n",
      " [0.20000005]\n",
      " [0.39999986]]\n",
      "11\n",
      "[[0.40000004]\n",
      " [0.19999999]\n",
      " [0.39999998]]\n",
      "12\n",
      "[[0.40000001]\n",
      " [0.2       ]\n",
      " [0.39999999]]\n",
      "13\n",
      "[[0.4]\n",
      " [0.2]\n",
      " [0.4]]\n",
      "14\n",
      "[[0.4]\n",
      " [0.2]\n",
      " [0.4]]\n",
      "15\n",
      "[[0.4]\n",
      " [0.2]\n",
      " [0.4]]\n",
      "16\n",
      "[[0.4]\n",
      " [0.2]\n",
      " [0.4]]\n",
      "17\n",
      "[[0.4]\n",
      " [0.2]\n",
      " [0.4]]\n",
      "18\n",
      "[[0.4]\n",
      " [0.2]\n",
      " [0.4]]\n",
      "19\n",
      "[[0.4]\n",
      " [0.2]\n",
      " [0.4]]\n",
      "20\n",
      "[[0.4]\n",
      " [0.2]\n",
      " [0.4]]\n",
      "21\n",
      "[[0.4]\n",
      " [0.2]\n",
      " [0.4]]\n",
      "22\n",
      "[[0.4]\n",
      " [0.2]\n",
      " [0.4]]\n",
      "23\n",
      "[[0.4]\n",
      " [0.2]\n",
      " [0.4]]\n",
      "24\n",
      "[[0.4]\n",
      " [0.2]\n",
      " [0.4]]\n",
      "25\n",
      "[[0.4]\n",
      " [0.2]\n",
      " [0.4]]\n",
      "26\n",
      "[[0.4]\n",
      " [0.2]\n",
      " [0.4]]\n",
      "27\n",
      "[[0.4]\n",
      " [0.2]\n",
      " [0.4]]\n",
      "28\n",
      "[[0.4]\n",
      " [0.2]\n",
      " [0.4]]\n",
      "29\n",
      "[[0.4]\n",
      " [0.2]\n",
      " [0.4]]\n",
      "30\n",
      "[[0.4]\n",
      " [0.2]\n",
      " [0.4]]\n",
      "31\n",
      "[[0.4]\n",
      " [0.2]\n",
      " [0.4]]\n",
      "32\n",
      "[[0.4]\n",
      " [0.2]\n",
      " [0.4]]\n",
      "33\n",
      "[[0.4]\n",
      " [0.2]\n",
      " [0.4]]\n",
      "34\n",
      "[[0.4]\n",
      " [0.2]\n",
      " [0.4]]\n",
      "35\n",
      "[[0.4]\n",
      " [0.2]\n",
      " [0.4]]\n",
      "36\n",
      "[[0.4]\n",
      " [0.2]\n",
      " [0.4]]\n",
      "37\n",
      "[[0.4]\n",
      " [0.2]\n",
      " [0.4]]\n",
      "38\n",
      "[[0.4]\n",
      " [0.2]\n",
      " [0.4]]\n",
      "39\n",
      "[[0.4]\n",
      " [0.2]\n",
      " [0.4]]\n",
      "40\n",
      "[[0.4]\n",
      " [0.2]\n",
      " [0.4]]\n",
      "41\n",
      "[[0.4]\n",
      " [0.2]\n",
      " [0.4]]\n",
      "42\n",
      "[[0.4]\n",
      " [0.2]\n",
      " [0.4]]\n",
      "43\n",
      "[[0.4]\n",
      " [0.2]\n",
      " [0.4]]\n",
      "44\n",
      "[[0.4]\n",
      " [0.2]\n",
      " [0.4]]\n",
      "45\n",
      "[[0.4]\n",
      " [0.2]\n",
      " [0.4]]\n",
      "46\n",
      "[[0.4]\n",
      " [0.2]\n",
      " [0.4]]\n",
      "47\n",
      "[[0.4]\n",
      " [0.2]\n",
      " [0.4]]\n",
      "48\n",
      "[[0.4]\n",
      " [0.2]\n",
      " [0.4]]\n",
      "49\n",
      "[[0.4]\n",
      " [0.2]\n",
      " [0.4]]\n"
     ]
    }
   ],
   "source": [
    "the_weather=np.zeros((3,50))      #the_weather holds the states and the probability of the weather_states in a matrix\n",
    "the_weather[:,0]=x_today[:,0]\n",
    "for k in range(50):\n",
    "    x_tommorrow = A@x_today          #the state of the weather for the next 50 days\n",
    "    the_weather[:,k]=x_tommorrow[:,0]\n",
    "    print(k)\n",
    "    print(x_tommorrow)\n",
    "    x_today=x_tommorrow         # the out shows the probability of each weather state occuring within a period of 50 days "
   ]
  },
  {
   "cell_type": "code",
   "execution_count": 30,
   "id": "b796d1f2",
   "metadata": {
    "scrolled": true
   },
   "outputs": [
    {
     "data": {
      "image/png": "[encoded data removed]",
      "text/plain": [
       "<Figure size 640x480 with 1 Axes>"
      ]
     },
     "metadata": {},
     "output_type": "display_data"
    }
   ],
   "source": [
    "plt.plot(the_weather.transpose())\n",
    "plt.grid(True)\n",
    "#the horizontal_axis is the number of days and the vertical axis is the probablity of likely weather states\n"
   ]
  },
  {
   "cell_type": "code",
   "execution_count": null,
   "id": "277c56b5",
   "metadata": {},
   "outputs": [],
   "source": []
  }
 ],
 "metadata": {
  "kernelspec": {
   "display_name": "Python 3 (ipykernel)",
   "language": "python",
   "name": "python3"
  },
  "language_info": {
   "codemirror_mode": {
    "name": "ipython",
    "version": 3
   },
   "file_extension": ".py",
   "mimetype": "text/x-python",
   "name": "python",
   "nbconvert_exporter": "python",
   "pygments_lexer": "ipython3",
   "version": "3.10.8"
  }
 },
 "nbformat": 4,
 "nbformat_minor": 5
}
